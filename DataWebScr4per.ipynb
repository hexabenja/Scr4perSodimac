{
  "nbformat": 4,
  "nbformat_minor": 0,
  "metadata": {
    "colab": {
      "provenance": [],
      "authorship_tag": "ABX9TyM13XRUKjK1BBAMjANwF9Ql",
      "include_colab_link": true
    },
    "kernelspec": {
      "name": "python3",
      "display_name": "Python 3"
    },
    "language_info": {
      "name": "python"
    }
  },
  "cells": [
    {
      "cell_type": "markdown",
      "metadata": {
        "id": "view-in-github",
        "colab_type": "text"
      },
      "source": [
        "<a href=\"https://colab.research.google.com/github/hexabenja/DataAnalysisScraper/blob/main/DataWebScr4per.ipynb\" target=\"_parent\"><img src=\"https://colab.research.google.com/assets/colab-badge.svg\" alt=\"Open In Colab\"/></a>"
      ]
    },
    {
      "cell_type": "markdown",
      "source": [
        "# Nueva sección"
      ],
      "metadata": {
        "id": "nyY2A4ACG6xX"
      }
    },
    {
      "cell_type": "markdown",
      "source": [
        "\n",
        "Esta celda instala las bibliotecas necesarias para el web scraping con Langchain, incluidas langchain-community y beautifulsoup4."
      ],
      "metadata": {
        "id": "Afws6J-fCK6C"
      }
    },
    {
      "cell_type": "code",
      "source": [
        "%pip install -qU langchain-community beautifulsoup4\n",
        "%pip install -qU langchain-unstructured"
      ],
      "metadata": {
        "id": "2pGcGvrkCPBP",
        "colab": {
          "base_uri": "https://localhost:8080/"
        },
        "outputId": "c703bfdf-11fd-4dba-afa8-2db3c1237353"
      },
      "execution_count": 2,
      "outputs": [
        {
          "output_type": "stream",
          "name": "stdout",
          "text": [
            "\u001b[2K   \u001b[90m━━━━━━━━━━━━━━━━━━━━━━━━━━━━━━━━━━━━━━━━\u001b[0m \u001b[32m2.5/2.5 MB\u001b[0m \u001b[31m23.5 MB/s\u001b[0m eta \u001b[36m0:00:00\u001b[0m\n",
            "\u001b[2K   \u001b[90m━━━━━━━━━━━━━━━━━━━━━━━━━━━━━━━━━━━━━━━━\u001b[0m \u001b[32m64.7/64.7 kB\u001b[0m \u001b[31m5.1 MB/s\u001b[0m eta \u001b[36m0:00:00\u001b[0m\n",
            "\u001b[2K   \u001b[90m━━━━━━━━━━━━━━━━━━━━━━━━━━━━━━━━━━━━━━━━\u001b[0m \u001b[32m50.9/50.9 kB\u001b[0m \u001b[31m4.0 MB/s\u001b[0m eta \u001b[36m0:00:00\u001b[0m\n",
            "\u001b[?25h\u001b[31mERROR: pip's dependency resolver does not currently take into account all the packages that are installed. This behaviour is the source of the following dependency conflicts.\n",
            "google-colab 1.0.0 requires requests==2.32.4, but you have requests 2.32.5 which is incompatible.\u001b[0m\u001b[31m\n",
            "\u001b[2K   \u001b[90m━━━━━━━━━━━━━━━━━━━━━━━━━━━━━━━━━━━━━━━━\u001b[0m \u001b[32m13.2/13.2 MB\u001b[0m \u001b[31m93.3 MB/s\u001b[0m eta \u001b[36m0:00:00\u001b[0m\n",
            "\u001b[2K   \u001b[90m━━━━━━━━━━━━━━━━━━━━━━━━━━━━━━━━━━━━━━━━\u001b[0m \u001b[32m207.8/207.8 kB\u001b[0m \u001b[31m17.7 MB/s\u001b[0m eta \u001b[36m0:00:00\u001b[0m\n",
            "\u001b[2K   \u001b[90m━━━━━━━━━━━━━━━━━━━━━━━━━━━━━━━━━━━━━━━━\u001b[0m \u001b[32m310.5/310.5 kB\u001b[0m \u001b[31m21.5 MB/s\u001b[0m eta \u001b[36m0:00:00\u001b[0m\n",
            "\u001b[2K   \u001b[90m━━━━━━━━━━━━━━━━━━━━━━━━━━━━━━━━━━━━━━━━\u001b[0m \u001b[32m46.0/46.0 kB\u001b[0m \u001b[31m3.8 MB/s\u001b[0m eta \u001b[36m0:00:00\u001b[0m\n",
            "\u001b[2K   \u001b[90m━━━━━━━━━━━━━━━━━━━━━━━━━━━━━━━━━━━━━━━━\u001b[0m \u001b[32m86.8/86.8 kB\u001b[0m \u001b[31m7.2 MB/s\u001b[0m eta \u001b[36m0:00:00\u001b[0m\n",
            "\u001b[?25h"
          ]
        }
      ]
    },
    {
      "cell_type": "markdown",
      "source": [
        "Esta celda importa bs4 y WebBaseLoader para cargar contenido de una página web específica (En este ejemplo catálogo CREST de sodimac)."
      ],
      "metadata": {
        "id": "1poUcbPvBdVT"
      }
    },
    {
      "cell_type": "code",
      "execution_count": 3,
      "metadata": {
        "id": "2EC1I3T-A2IN",
        "colab": {
          "base_uri": "https://localhost:8080/"
        },
        "outputId": "2105b606-5a31-4fd7-ab02-4c10f0d8fb6a"
      },
      "outputs": [
        {
          "output_type": "stream",
          "name": "stderr",
          "text": [
            "WARNING:langchain_community.utils.user_agent:USER_AGENT environment variable not set, consider setting it to identify your requests.\n"
          ]
        }
      ],
      "source": [
        "from langchain_community.document_loaders import WebBaseLoader\n",
        "import bs4\n",
        "import re\n",
        "import csv\n",
        "from datetime import datetime"
      ]
    },
    {
      "cell_type": "markdown",
      "source": [
        " Inicializa el loader con la URL y obtiene el documento de forma asíncrona."
      ],
      "metadata": {
        "id": "ktVhGl4PChkr"
      }
    },
    {
      "cell_type": "code",
      "source": [
        "page_url = \"https://www.sodimac.cl/sodimac-cl/marca/WEBER\"\n",
        "\n",
        "loader = WebBaseLoader(web_paths=[page_url])\n",
        "docs = []\n",
        "async for doc in loader.alazy_load():\n",
        "    docs.append(doc)\n",
        "\n",
        "assert len(docs)"
      ],
      "metadata": {
        "id": "WWphbQ6fCNEf",
        "colab": {
          "base_uri": "https://localhost:8080/"
        },
        "outputId": "432c086a-28e5-42a6-8761-5756585db648"
      },
      "execution_count": 4,
      "outputs": [
        {
          "output_type": "stream",
          "name": "stderr",
          "text": [
            "Fetching pages: 100%|##########| 1/1 [00:02<00:00,  2.47s/it]\n"
          ]
        }
      ]
    },
    {
      "cell_type": "markdown",
      "source": [
        "Esta celda inicializa WebBaseLoader nuevamente, pero esta vez con parámetros adicionales para `bs_kwargs` y `bs_get_text_kwargs` para analizar específicamente solo el contenido de Markdown dentro de la clase `theme-doc-markdown` y para usar separadores y eliminaciones personalizados."
      ],
      "metadata": {
        "id": "u_gggY9NKjPn"
      }
    },
    {
      "cell_type": "code",
      "source": [
        "loader = WebBaseLoader(\n",
        "    web_paths=[page_url],\n",
        "    bs_kwargs={\n",
        "        \"parse_only\": bs4.SoupStrainer(id=\"testId-searchResults-products\", class_=\"jsx-636341914 search-results--products\"),\n",
        "    },\n",
        "    bs_get_text_kwargs={\"separator\": \",\", \"strip\": True},\n",
        ")\n",
        "\n",
        "docs = []\n",
        "async for doc in loader.alazy_load():\n",
        "    docs.append(doc)\n",
        "\n",
        "assert len(docs) == 1\n",
        "doc = docs[0]"
      ],
      "metadata": {
        "id": "rYlLVL38KiIe",
        "colab": {
          "base_uri": "https://localhost:8080/"
        },
        "outputId": "3fc7e371-6944-4bfd-a3eb-1905d3aa7e31"
      },
      "execution_count": 5,
      "outputs": [
        {
          "output_type": "stream",
          "name": "stderr",
          "text": [
            "Fetching pages: 100%|##########| 1/1 [00:00<00:00,  4.18it/s]\n"
          ]
        }
      ]
    },
    {
      "cell_type": "markdown",
      "source": [
        "Esta celda elimina ciertas frases del panel de los resultados con una definición. Al detectar frases tales mencionadas abajo las va a detectar como definición unwanted_phrases.\n",
        "\n",
        "Limpia el contenido definiendolo como cleaned_content. Usa la definición de cleaned_content para reemplazar por \"\". Las frases unwanted_phrases de celda superior. Elimina números entre parentesís de puntuacion disponible. Elimina residuos de texto."
      ],
      "metadata": {
        "id": "ydQhdt7Ted80"
      }
    },
    {
      "cell_type": "code",
      "source": [
        "#Sintaxis de expresiones regulares regex:\n",
        "# r'...' = es un raw String por lo cual es texto\n",
        "# ( ) = es inicio y fin de captura de caracteres\n",
        "# Backslash es un escape de la funcion especial y debe agregarse como un valor string el valor siguiente (en este caso $)\n",
        "# \\s* = es Cero o mas espacios en blanco\n",
        "# [ ] = Inicio y final de conjunto de caracteres\n",
        "# \\d = Digito del 1 al 9\n",
        "# + = Mas conjunto anterior\n",
        "# ,\\d+, = Coma mas uno o mas digitos mas coma\n",
        "# {2,} = Dos o mas repeticiones de la coma\n",
        "# ^ = Inicio de lina\n",
        "# | = Disyuncion OR\n",
        "# $ = Final de linea\n",
        "#\n",
        "\n",
        "def parse_products_simple(content):\n",
        "    # Lista de frases a eliminar\n",
        "    unwanted_phrases = [\n",
        "        \"cuotas sin interés\",\n",
        "        \"Agregar al Carro\",\n",
        "        \"Por Sodimac\",\n",
        "        \"Llega mañana\",\n",
        "\n",
        "    ]\n",
        "\n",
        "    # Limpiar el contenido\n",
        "    cleaned_content = content\n",
        "\n",
        "    # Eliminar frases no deseadas\n",
        "    for phrase in unwanted_phrases:\n",
        "        cleaned_content = cleaned_content.replace(phrase, \"\")\n",
        "\n",
        "    # Eliminar el numero de cuotas)\n",
        "    cleaned_content = re.sub(r'(\\$\\s*[\\d,\\.]+),\\d+,', r'\\1,', cleaned_content)\n",
        "\n",
        "    # Eliminar números entre paréntesis como (78), (13), etc y reemplazarlos por nueva fila/linea\n",
        "    cleaned_content = re.sub(r',?\\s*\\(\\d+\\),?', '|NEWLINE|', cleaned_content)\n",
        "\n",
        "    # Limpiar comas múltiples y espacios extra\n",
        "    cleaned_content = re.sub(r',{2,}', ',', cleaned_content)\n",
        "    cleaned_content = re.sub(r',\\s*,', ',', cleaned_content)\n",
        "    cleaned_content = re.sub(r'^\\s*,+|,+\\s*$', '', cleaned_content)\n",
        "\n",
        "    # Separar productos por \"newline\"\n",
        "    products = []\n",
        "    parts = cleaned_content.split(\"|NEWLINE|\")\n",
        "\n",
        "    for part in parts:\n",
        "        part = part.strip().strip(',').strip()\n",
        "        if part:\n",
        "            product_line = \"\" + part\n",
        "            products.append(product_line)\n",
        "\n",
        "    return products"
      ],
      "metadata": {
        "id": "NVaBmaMC0klQ"
      },
      "execution_count": 6,
      "outputs": []
    },
    {
      "cell_type": "markdown",
      "source": [
        "CELDA PARA COMPROBAR SI EL TEXTO PRINTEA CORRECTAMENTE"
      ],
      "metadata": {
        "id": "jRAK2f6pwTQR"
      }
    },
    {
      "cell_type": "code",
      "source": [
        "print(f\"{doc.metadata}\\n\")\n",
        "print(doc.page_content[:1000].strip())"
      ],
      "metadata": {
        "id": "IuiOcupNKAfZ",
        "colab": {
          "base_uri": "https://localhost:8080/"
        },
        "outputId": "a4e4113d-0b7f-477c-b573-e75702a412ab"
      },
      "execution_count": 7,
      "outputs": [
        {
          "output_type": "stream",
          "name": "stdout",
          "text": [
            "{'source': 'https://www.sodimac.cl/sodimac-cl/marca/WEBER'}\n",
            "\n",
            "WEBER,Adhesivo Porcelanato Piso y muro Superficie Rígido 25 kg,Por Sodimac,$  8.590,$  8.332,(270),Agregar al Carro,WEBER,Fragüe Café Claro 1 kg,Por Sodimac,$  1.800,(12),Agregar al Carro,WEBER,Parrilla a Carbón Original Kettle 22\" Acero,Por Sodimac,$  116.990,-42%,$  129.990,$  199.990,6,cuotas sin interés,Despacho Gratis,(1380),Agregar al Carro,WEBER,Parrilla a Carbón Original Kettle 18\" Acero,Por Sodimac,$  107.990,-10%,$  119.990,6,cuotas sin interés,Armado a $9.990 con CMR,(431),Agregar al Carro,WEBER,Fragüe Gris plata 1 kg,Por Sodimac,$  1.800,(11),Agregar al Carro,WEBER,Cinta fibra vidrio autoadhesiva junturas de tabiquería de fibrocemento,Por Sodimac,$  3.690,(51),Agregar al Carro,WEBER,Autonivelante Superficie Rígido 25 kg,Por Sodimac,$  17.990,(3),Agregar al Carro,WEBER,Imprimante Superficie Rígido 10 kg,Por Sodimac,$  34.990,Agregar al Carro,WEBER,1000cc Pasta adhesiva para cinta de fibra de vidrio,Por Sodimac,$  4.690,(18),Agregar al Carro,WEBER,Fragüe Gris 5 kg,Por Sodimac\n"
          ]
        }
      ]
    },
    {
      "cell_type": "markdown",
      "source": [
        "Celda para parsear el texto final delimitado por comas"
      ],
      "metadata": {
        "id": "y2TA96bqwY7Z"
      }
    },
    {
      "cell_type": "code",
      "source": [
        "raw_content = doc.page_content\n",
        "clean_products = parse_products_simple(raw_content)\n",
        "\n",
        "final_text = \"\\n\".join(clean_products)\n",
        "print(final_text)"
      ],
      "metadata": {
        "colab": {
          "base_uri": "https://localhost:8080/"
        },
        "id": "SIuA8WG10LTU",
        "outputId": "78e88199-9b2f-4019-a254-fcddcacdf9e4"
      },
      "execution_count": 8,
      "outputs": [
        {
          "output_type": "stream",
          "name": "stdout",
          "text": [
            "WEBER,Adhesivo Porcelanato Piso y muro Superficie Rígido 25 kg,$  8.590,$  8.332\n",
            "WEBER,Fragüe Café Claro 1 kg,$  1.800\n",
            "WEBER,Parrilla a Carbón Original Kettle 22\" Acero,$  116.990,-42%,$  129.990,$  199.990,Despacho Gratis\n",
            "WEBER,Parrilla a Carbón Original Kettle 18\" Acero,$  107.990,-10%,$  119.990,Armado a $9.990 con CMR\n",
            "WEBER,Fragüe Gris plata 1 kg,$  1.800\n",
            "WEBER,Cinta fibra vidrio autoadhesiva junturas de tabiquería de fibrocemento,$  3.690\n",
            "WEBER,Autonivelante Superficie Rígido 25 kg,$  17.990\n",
            "WEBER,Imprimante Superficie Rígido 10 kg,$  34.990,WEBER,1000cc Pasta adhesiva para cinta de fibra de vidrio,$  4.690\n",
            "WEBER,Fragüe Gris 5 kg,$  7.200\n",
            "WEBER,Fragüe Almond 1 kg,$  2.490,Retira mañana\n",
            "WEBER,6 kilos Masilla para junturas de fibrocemento en pasta.,$  11.990\n",
            "WEBER,Adhesivo Cerámico Muro Superficie Flexible 25 kg,$  19.290\n",
            "WEBER,3 litros Tape 1000 pasta adhesiva para junturas,$  10.990\n",
            "WEBER,Adhesivo Cerámico Piso y muro Superficie Rígido 25 kg,$  5.090,$  4.937\n",
            "WEBER,Impermeabilizante Lata 0.8 galón(es) Mate Blanco,$  17.990,Retira mañana\n",
            "WEBER,Fragüe Gris plata 5 kg,$  7.200\n",
            "WEBER,Fragüe Blanco 5 kg,$  7.200\n",
            "WEBER,Fragüe Café oscuro 5 kg,$  7.200\n",
            "WEBER,Adhesivo Porcelanato Piso y muro Superficie Flexible 25 kg,$  49.990,$  48.490\n",
            "WEBER,Impermeabilizante Muros y Fachadas Tineta 5 galón(es) Mate Blanco,$  96.990,Retira mañana\n",
            "WEBER,500cc Pasta adhesiva para cinta de fibra de vidrio,$  2.590\n",
            "WEBER,Adhesivo Cerámico Piso y muro Superficie Rígido 25 kg,$  2.910,$  2.823\n",
            "WEBER,Fragüe Quilicura 1 kg,$  1.800\n",
            "WEBER,Fragüe Gris 1 kg,$  1.800\n",
            "WEBER,Fragüe Café claro 5 kg,$  7.200\n",
            "WEBER,Adhesivo Cerámico Muro Superficie Flexible 6 kg,$  7.716\n",
            "WEBER,Adhesivo Cerámico Muro Superficie Flexible 15 kg,$  15.432,Retira mañana\n"
          ]
        }
      ]
    },
    {
      "cell_type": "code",
      "source": [
        "# Función simple para exportar a CSV con encabezados\n",
        "def export_simple_csv(clean_products):\n",
        "    # Obtener la marca del primer producto para segmentar por marca de productos\n",
        "    if clean_products:\n",
        "        first_product = clean_products[0]\n",
        "        marca = first_product.split(',')[0].strip()  # ← NUEVO: Extrae la marca\n",
        "    else:\n",
        "        marca = \"productos\"  # Por si no hay productos\n",
        "\n",
        "    # Obtener la fecha actual en día, mes y año\n",
        "    fecha_actual = datetime.now().strftime(\"%Y%m%d\")\n",
        "\n",
        "    # Crear nombre del archivo: marca_fecha.csv\n",
        "    filename = f\"{marca}_{fecha_actual}.csv\"  # ← CAMBIO: Usa variable marca\n",
        "\n",
        "    with open(filename, 'w', newline='', encoding='utf-8') as csvfile:\n",
        "        writer = csv.writer(csvfile)\n",
        "\n",
        "        # Encabezados\n",
        "        writer.writerow(['Marca', 'Nombre_Producto', 'Precio'])\n",
        "\n",
        "        # Datos\n",
        "        for product in clean_products:\n",
        "            parts = product.split(',')\n",
        "            marca = parts[0].strip()\n",
        "            nombre = parts[1].strip() if len(parts) > 1 else ''\n",
        "            precio = parts[2].strip() if len(parts) > 2 else ''\n",
        "\n",
        "            writer.writerow([marca, nombre, precio])\n",
        "\n",
        "    print(f\"CSV creado: {filename}\")\n",
        "\n",
        "# Usar la función:\n",
        "export_simple_csv(clean_products)"
      ],
      "metadata": {
        "colab": {
          "base_uri": "https://localhost:8080/"
        },
        "id": "TwUJC8gWcilA",
        "outputId": "43e3ce6b-b678-419c-fdbe-dc6ead462eae"
      },
      "execution_count": 10,
      "outputs": [
        {
          "output_type": "stream",
          "name": "stdout",
          "text": [
            "CSV creado: WEBER_20250921.csv\n"
          ]
        }
      ]
    },
    {
      "cell_type": "code",
      "source": [],
      "metadata": {
        "id": "hdcuqk2Si49O"
      },
      "execution_count": 9,
      "outputs": []
    }
  ]
}