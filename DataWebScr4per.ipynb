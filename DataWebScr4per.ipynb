{
  "nbformat": 4,
  "nbformat_minor": 0,
  "metadata": {
    "colab": {
      "provenance": [],
      "authorship_tag": "ABX9TyNigt3uQjTBO8vFl3OR91Fl",
      "include_colab_link": true
    },
    "kernelspec": {
      "name": "python3",
      "display_name": "Python 3"
    },
    "language_info": {
      "name": "python"
    }
  },
  "cells": [
    {
      "cell_type": "markdown",
      "metadata": {
        "id": "view-in-github",
        "colab_type": "text"
      },
      "source": [
        "<a href=\"https://colab.research.google.com/github/hexabenja/Scr4perSodimac/blob/main/DataWebScr4per.ipynb\" target=\"_parent\"><img src=\"https://colab.research.google.com/assets/colab-badge.svg\" alt=\"Open In Colab\"/></a>"
      ]
    },
    {
      "cell_type": "markdown",
      "source": [
        "# Nueva sección"
      ],
      "metadata": {
        "id": "nyY2A4ACG6xX"
      }
    },
    {
      "cell_type": "markdown",
      "source": [
        "\n",
        "Esta celda instala las bibliotecas necesarias para el web scraping con Langchain, incluidas langchain-community y beautifulsoup4."
      ],
      "metadata": {
        "id": "Afws6J-fCK6C"
      }
    },
    {
      "cell_type": "code",
      "source": [
        "%pip install -qU langchain-community beautifulsoup4\n",
        "%pip install -qU langchain-unstructured"
      ],
      "metadata": {
        "id": "2pGcGvrkCPBP",
        "colab": {
          "base_uri": "https://localhost:8080/"
        },
        "outputId": "7bbb4c3c-e380-4cd9-8e32-10da7d3a0762"
      },
      "execution_count": 1,
      "outputs": [
        {
          "output_type": "stream",
          "name": "stdout",
          "text": [
            "\u001b[?25l   \u001b[90m━━━━━━━━━━━━━━━━━━━━━━━━━━━━━━━━━━━━━━━━\u001b[0m \u001b[32m0.0/2.5 MB\u001b[0m \u001b[31m?\u001b[0m eta \u001b[36m-:--:--\u001b[0m\r\u001b[2K   \u001b[91m━━━━━━━━━━━━━\u001b[0m\u001b[90m╺\u001b[0m\u001b[90m━━━━━━━━━━━━━━━━━━━━━━━━━━\u001b[0m \u001b[32m0.8/2.5 MB\u001b[0m \u001b[31m26.0 MB/s\u001b[0m eta \u001b[36m0:00:01\u001b[0m\r\u001b[2K   \u001b[91m━━━━━━━━━━━━━━━━━━━━━━━━━━━━━━━━━━━━━━━\u001b[0m\u001b[91m╸\u001b[0m \u001b[32m2.5/2.5 MB\u001b[0m \u001b[31m50.3 MB/s\u001b[0m eta \u001b[36m0:00:01\u001b[0m\r\u001b[2K   \u001b[90m━━━━━━━━━━━━━━━━━━━━━━━━━━━━━━━━━━━━━━━━\u001b[0m \u001b[32m2.5/2.5 MB\u001b[0m \u001b[31m35.3 MB/s\u001b[0m eta \u001b[36m0:00:00\u001b[0m\n",
            "\u001b[?25h\u001b[?25l   \u001b[90m━━━━━━━━━━━━━━━━━━━━━━━━━━━━━━━━━━━━━━━━\u001b[0m \u001b[32m0.0/106.4 kB\u001b[0m \u001b[31m?\u001b[0m eta \u001b[36m-:--:--\u001b[0m\r\u001b[2K   \u001b[90m━━━━━━━━━━━━━━━━━━━━━━━━━━━━━━━━━━━━━━━━\u001b[0m \u001b[32m106.4/106.4 kB\u001b[0m \u001b[31m7.6 MB/s\u001b[0m eta \u001b[36m0:00:00\u001b[0m\n",
            "\u001b[2K   \u001b[90m━━━━━━━━━━━━━━━━━━━━━━━━━━━━━━━━━━━━━━━━\u001b[0m \u001b[32m64.7/64.7 kB\u001b[0m \u001b[31m4.4 MB/s\u001b[0m eta \u001b[36m0:00:00\u001b[0m\n",
            "\u001b[2K   \u001b[90m━━━━━━━━━━━━━━━━━━━━━━━━━━━━━━━━━━━━━━━━\u001b[0m \u001b[32m50.9/50.9 kB\u001b[0m \u001b[31m3.6 MB/s\u001b[0m eta \u001b[36m0:00:00\u001b[0m\n",
            "\u001b[?25h\u001b[31mERROR: pip's dependency resolver does not currently take into account all the packages that are installed. This behaviour is the source of the following dependency conflicts.\n",
            "google-colab 1.0.0 requires requests==2.32.4, but you have requests 2.32.5 which is incompatible.\u001b[0m\u001b[31m\n",
            "\u001b[0m"
          ]
        }
      ]
    },
    {
      "cell_type": "markdown",
      "source": [
        "Esta celda importa bs4 y WebBaseLoader para cargar contenido de una página web específica (En este ejemplo catálogo CREST de sodimac)."
      ],
      "metadata": {
        "id": "1poUcbPvBdVT"
      }
    },
    {
      "cell_type": "code",
      "execution_count": 16,
      "metadata": {
        "id": "2EC1I3T-A2IN"
      },
      "outputs": [],
      "source": [
        "from langchain_community.document_loaders import WebBaseLoader\n",
        "import bs4\n",
        "import re\n",
        "import csv\n",
        "from datetime import datetime\n",
        "import time\n",
        "import asyncio"
      ]
    },
    {
      "cell_type": "markdown",
      "source": [
        " Inicializa el loader con la URL y obtiene el documento de forma asíncrona."
      ],
      "metadata": {
        "id": "ktVhGl4PChkr"
      }
    },
    {
      "cell_type": "markdown",
      "source": [
        "Agrega imagenes a parte de los datos"
      ],
      "metadata": {
        "id": "O40udSFXp37L"
      }
    },
    {
      "cell_type": "code",
      "source": [
        "def get_product_images_from_soup(soup):\n",
        "    \"\"\"Extrae URLs de imágenes desde el soup\"\"\"\n",
        "    images = soup.find_all('img', class_='jsx-1996933093')\n",
        "    image_urls = []\n",
        "    for img in images:\n",
        "        src = img.get('src', '')\n",
        "        if src:\n",
        "            image_urls.append(src)\n",
        "    return image_urls"
      ],
      "metadata": {
        "id": "UE8XDaeMp8TC"
      },
      "execution_count": 3,
      "outputs": []
    },
    {
      "cell_type": "code",
      "source": [
        "page_url = \"https://www.sodimac.cl/sodimac-cl/marca/WEBER\"\n",
        "\n",
        "loader = WebBaseLoader(web_paths=[page_url])\n",
        "docs = []\n",
        "async for doc in loader.alazy_load():\n",
        "    docs.append(doc)\n",
        "\n",
        "assert len(docs)\n",
        "await asyncio.sleep(5) # Evitar que detecte como spam el fetching asincronico (sesion debe ser mayor a 1 segundo)"
      ],
      "metadata": {
        "id": "WWphbQ6fCNEf",
        "colab": {
          "base_uri": "https://localhost:8080/"
        },
        "outputId": "8765ebdd-b2fc-487c-a367-039d40348c57"
      },
      "execution_count": 17,
      "outputs": [
        {
          "output_type": "stream",
          "name": "stderr",
          "text": [
            "Fetching pages: 100%|##########| 1/1 [00:00<00:00,  4.27it/s]\n"
          ]
        }
      ]
    },
    {
      "cell_type": "markdown",
      "source": [
        "Esta celda inicializa WebBaseLoader nuevamente, pero esta vez con parámetros adicionales para `bs_kwargs` y `bs_get_text_kwargs` para analizar específicamente solo el contenido de Markdown dentro de la clase `theme-doc-markdown` y para usar separadores y eliminaciones personalizados."
      ],
      "metadata": {
        "id": "u_gggY9NKjPn"
      }
    },
    {
      "cell_type": "code",
      "source": [
        "loader = WebBaseLoader(\n",
        "    web_paths=[page_url],\n",
        "    bs_kwargs={\n",
        "        \"parse_only\": bs4.SoupStrainer(id=\"testId-searchResults-products\", class_=\"jsx-636341914 search-results--products\"),\n",
        "    },\n",
        "    bs_get_text_kwargs={\"separator\": \",\", \"strip\": True},\n",
        ")\n",
        "\n",
        "soup = loader.scrape()\n",
        "image_urls = get_product_images_from_soup(soup)\n",
        "\n",
        "docs = []\n",
        "async for doc in loader.alazy_load():\n",
        "    docs.append(doc)\n",
        "\n",
        "assert len(docs) == 1\n",
        "doc = docs[0]"
      ],
      "metadata": {
        "id": "rYlLVL38KiIe",
        "colab": {
          "base_uri": "https://localhost:8080/"
        },
        "outputId": "ce7bbbaf-80e8-422d-8e64-e5c935d89187"
      },
      "execution_count": 18,
      "outputs": [
        {
          "output_type": "stream",
          "name": "stderr",
          "text": [
            "Fetching pages: 100%|##########| 1/1 [00:00<00:00,  5.55it/s]\n"
          ]
        }
      ]
    },
    {
      "cell_type": "markdown",
      "source": [
        "Esta celda elimina ciertas frases del panel de los resultados con una definición. Al detectar frases tales mencionadas abajo las va a detectar como definición unwanted_phrases.\n",
        "\n",
        "Limpia el contenido definiendolo como cleaned_content. Usa la definición de cleaned_content para reemplazar por \"\". Las frases unwanted_phrases de celda superior. Elimina números entre parentesís de puntuacion disponible. Elimina residuos de texto."
      ],
      "metadata": {
        "id": "ydQhdt7Ted80"
      }
    },
    {
      "cell_type": "code",
      "source": [
        "#Sintaxis de expresiones regulares regex:\n",
        "# r'...' = es un raw String por lo cual es texto\n",
        "# ( ) = es inicio y fin de captura de caracteres\n",
        "# Backslash es un escape de la funcion especial y debe agregarse como un valor string el valor siguiente (en este caso $)\n",
        "# \\s* = es Cero o mas espacios en blanco\n",
        "# [ ] = Inicio y final de conjunto de caracteres\n",
        "# \\d = Digito del 1 al 9\n",
        "# + = Mas conjunto anterior\n",
        "# ,\\d+, = Coma mas uno o mas digitos mas coma\n",
        "# {2,} = Dos o mas repeticiones de la coma\n",
        "# ^ = Inicio de lina\n",
        "# | = Disyuncion OR\n",
        "# $ = Final de linea\n",
        "#\n",
        "\n",
        "def parse_products_with_images(content, image_urls):\n",
        "    # Lista de frases a eliminar\n",
        "    unwanted_phrases = [\n",
        "        \"cuotas sin interés\",\n",
        "        \"Agregar al Carro\",\n",
        "        \"Por Sodimac\",\n",
        "        \"Llega mañana\",\n",
        "\n",
        "    ]\n",
        "\n",
        "    # Limpiar el contenido\n",
        "    cleaned_content = content\n",
        "\n",
        "    # Eliminar frases no deseadas\n",
        "    for phrase in unwanted_phrases:\n",
        "        cleaned_content = cleaned_content.replace(phrase, \"\")\n",
        "\n",
        "    # Eliminar el numero de cuotas)\n",
        "    cleaned_content = re.sub(r'(\\$\\s*[\\d,\\.]+),\\d+,', r'\\1,', cleaned_content)\n",
        "\n",
        "    # Eliminar números entre paréntesis como (78), (13), etc y reemplazarlos por nueva fila/linea\n",
        "    cleaned_content = re.sub(r',?\\s*\\(\\d+\\),?', '|NEWLINE|', cleaned_content)\n",
        "\n",
        "    # Limpiar comas múltiples y espacios extra\n",
        "    cleaned_content = re.sub(r',{2,}', ',', cleaned_content)\n",
        "    cleaned_content = re.sub(r',\\s*,', ',', cleaned_content)\n",
        "    cleaned_content = re.sub(r'^\\s*,+|,+\\s*$', '', cleaned_content)\n",
        "\n",
        "    # Separar productos por \"newline\"\n",
        "    products = []\n",
        "    parts = cleaned_content.split(\"|NEWLINE|\")\n",
        "\n",
        "    # Agregar tag a URL de Google Lens a IMG Sodimac\n",
        "    img_index = 0\n",
        "    for part in parts:\n",
        "        part = part.strip().strip(',').strip()\n",
        "        if part:\n",
        "            if img_index < len(image_urls):\n",
        "                url_imagen = image_urls[img_index]\n",
        "                google_lens_url = f\"https://lens.google.com/uploadbyurl?url={url_imagen}&q=SITE%3ASODIMAC.CL\"\n",
        "                product_line = f\"{part},{google_lens_url}\"\n",
        "                img_index += 1\n",
        "            else:\n",
        "                product_line = f\"{part},Sin imagen\"\n",
        "            products.append(product_line)\n",
        "\n",
        "    return products"
      ],
      "metadata": {
        "id": "NVaBmaMC0klQ"
      },
      "execution_count": 19,
      "outputs": []
    },
    {
      "cell_type": "markdown",
      "source": [
        "CELDA PARA COMPROBAR SI EL TEXTO PRINTEA CORRECTAMENTE"
      ],
      "metadata": {
        "id": "jRAK2f6pwTQR"
      }
    },
    {
      "cell_type": "code",
      "source": [
        "print(f\"{doc.metadata}\\n\")\n",
        "print(doc.page_content[:1000].strip())"
      ],
      "metadata": {
        "id": "IuiOcupNKAfZ",
        "colab": {
          "base_uri": "https://localhost:8080/"
        },
        "outputId": "0bf762b5-43dc-4d9a-f6bb-50b2571950b7"
      },
      "execution_count": 20,
      "outputs": [
        {
          "output_type": "stream",
          "name": "stdout",
          "text": [
            "{'source': 'https://www.sodimac.cl/sodimac-cl/marca/WEBER'}\n",
            "\n",
            "WEBER,Adhesivo Cerámico Muro Superficie Flexible 25 kg,Por Sodimac,$  20.830,6,cuotas sin interés,(101),Agregar al Carro,WEBER,Fragüe Grey 1 kg,Por Sodimac,$  2.490,6,cuotas sin interés,(15),Agregar al Carro,WEBER,Parrilla a Carbón Original Kettle 22\" Acero,Por Sodimac,$  129.990,-35%,$  199.990,(1390),Agregar al Carro,WEBER,Adhesivo Cerámico Piso y muro Superficie Rígido 25 kg,Por Sodimac,$  5.090,$  4.937,6,cuotas sin interés,(40),Agregar al Carro,WEBER,Adhesivo Porcelanato Piso y muro Superficie Rígido 25 kg,Por Sodimac,$  9.280,$  9.002,6,cuotas sin interés,(271),Agregar al Carro,WEBER,6 kilos Masilla para junturas de fibrocemento en pasta.,Por Sodimac,$  11.990,(48),Agregar al Carro,WEBER,Fragüe Almond 1 kg,Por Sodimac,$  2.490,6,cuotas sin interés,(2),Agregar al Carro,WEBER,Adhesivo cerámico polvo AC 20 kg,Por Imperial,$  14.990,Agregar al Carro,WEBER,Autonivelante Superficie Rígido 25 kg,Por Sodimac,$  17.990,6,cuotas sin interés,(3),Agregar al Carro,WEBER,Fragüe Café Claro 1 kg\n"
          ]
        }
      ]
    },
    {
      "cell_type": "markdown",
      "source": [
        "Celda para parsear el texto final delimitado por comas"
      ],
      "metadata": {
        "id": "y2TA96bqwY7Z"
      }
    },
    {
      "cell_type": "code",
      "source": [
        "raw_content = doc.page_content\n",
        "clean_products = parse_products_with_images(raw_content, image_urls)\n",
        "\n",
        "final_text = \"\\n\".join(clean_products)\n",
        "print(final_text)"
      ],
      "metadata": {
        "colab": {
          "base_uri": "https://localhost:8080/"
        },
        "id": "SIuA8WG10LTU",
        "outputId": "bd8ef3de-e99c-4a2f-d329-5a3d8f054e93"
      },
      "execution_count": 23,
      "outputs": [
        {
          "output_type": "stream",
          "name": "stdout",
          "text": [
            "WEBER,Adhesivo Cerámico Muro Superficie Flexible 25 kg,$  20.830,https://lens.google.com/uploadbyurl?url=https://media.sodimac.cl/sodimacCL/5437970_001/width=240,height=240,quality=70,format=webp,fit=pad&q=SITE%3ASODIMAC.CL\n",
            "WEBER,Fragüe Grey 1 kg,$  2.490,https://lens.google.com/uploadbyurl?url=https://media.sodimac.cl/sodimacCL/4203666_001/width=240,height=240,quality=70,format=webp,fit=pad&q=SITE%3ASODIMAC.CL\n",
            "WEBER,Parrilla a Carbón Original Kettle 22\" Acero,$  129.990,-35%,$  199.990,https://lens.google.com/uploadbyurl?url=https://media.sodimac.cl/sodimacCL/5346630_01/width=240,height=240,quality=70,format=webp,fit=pad&q=SITE%3ASODIMAC.CL\n",
            "WEBER,Adhesivo Cerámico Piso y muro Superficie Rígido 25 kg,$  5.090,$  4.937,https://lens.google.com/uploadbyurl?url=https://media.sodimac.cl/sodimacCL/3334171_001/width=240,height=240,quality=70,format=webp,fit=pad&q=SITE%3ASODIMAC.CL\n",
            "WEBER,Adhesivo Porcelanato Piso y muro Superficie Rígido 25 kg,$  9.280,$  9.002,https://lens.google.com/uploadbyurl?url=https://media.sodimac.cl/sodimacCL/3334163_001/width=240,height=240,quality=70,format=webp,fit=pad&q=SITE%3ASODIMAC.CL\n",
            "WEBER,6 kilos Masilla para junturas de fibrocemento en pasta.,$  11.990,https://lens.google.com/uploadbyurl?url=https://media.sodimac.cl/sodimacCL/1206540_01/width=240,height=240,quality=70,format=webp,fit=pad&q=SITE%3ASODIMAC.CL\n",
            "WEBER,Fragüe Almond 1 kg,$  2.490,https://lens.google.com/uploadbyurl?url=https://media.sodimac.cl/sodimacCL/4203607_001/width=240,height=240,quality=70,format=webp,fit=pad&q=SITE%3ASODIMAC.CL\n",
            "WEBER,Adhesivo cerámico polvo AC 20 kg,Por Imperial,$  14.990,WEBER,Autonivelante Superficie Rígido 25 kg,$  17.990,https://lens.google.com/uploadbyurl?url=https://media.sodimac.cl/falabellaCL/147206296_01/width=240,height=240,quality=70,format=webp,fit=pad&q=SITE%3ASODIMAC.CL\n",
            "WEBER,Fragüe Café Claro 1 kg,$  1.895,Sin imagen\n",
            "WEBER,Adhesivo porcelanato polvo DA 25 kg,Por Imperial,$  8.590,WEBER,Adhesivo cerámico pasta AC 25 kg,Por Imperial,$  19.290,WEBER,1000cc Pasta adhesiva para cinta de fibra de vidrio,$  4.690,Sin imagen\n",
            "WEBER,3 litros Tape 1000 pasta adhesiva para junturas,$  10.990,Sin imagen\n",
            "WEBER,Fragüe blanco 5 kg,Por Imperial,$  7.580,WEBER,Adhesivo Cerámico Muro Superficie Flexible 1 kg,$  2.708,Sin imagen\n",
            "WEBER,Cinta fibra vidrio autoadhesiva junturas de tabiquería de fibrocemento,$  3.690,Sin imagen\n",
            "WEBER,Fragüe Gris plata 1 kg,$  1.895,Sin imagen\n",
            "WEBER,Fragüe Blanco 5 kg,$  7.580,Sin imagen\n",
            "WEBER,Fragüe Café claro 5 kg,$  7.580,Sin imagen\n",
            "WEBER,Fragüe Blanco 1 kg,$  1.895,Sin imagen\n",
            "WEBER,Adhesivo Porcelanato Piso y muro Superficie Flexible 25 kg,$  49.990,$  48.490,Sin imagen\n",
            "WEBER,Adhesivo Cerámico Muro Superficie Flexible 6 kg,$  8.332,Sin imagen\n",
            "WEBER,500cc Pasta adhesiva para cinta de fibra de vidrio,$  2.590,Sin imagen\n",
            "WEBER,Fragüe Mendoza 1 kg,$  1.895,Sin imagen\n",
            "WEBER,Fragüe Negro 1 kg,$  2.490,Sin imagen\n",
            "WEBER,Parrilla a Carbón Original Kettle 18\" Acero,$  99.990,-17%,$  119.990,Sin imagen\n",
            "WEBER,Fragüe Negro 1 kg,$  1.895,Sin imagen\n"
          ]
        }
      ]
    },
    {
      "cell_type": "code",
      "source": [
        "# Función simple para exportar a CSV con encabezados\n",
        "def export_simple_csv(clean_products):\n",
        "    if clean_products:\n",
        "        first_product = clean_products[0]\n",
        "        marca = first_product.split(',')[0].strip()\n",
        "    else:\n",
        "        marca = \"productos\"\n",
        "\n",
        "    fecha_actual = datetime.now().strftime(\"%Y%m%d\")\n",
        "    filename = f\"{marca}_{fecha_actual}.csv\"\n",
        "\n",
        "    with open(filename, 'w', newline='', encoding='utf-8') as csvfile:\n",
        "        writer = csv.writer(csvfile)\n",
        "\n",
        "        # Agregar columnas\n",
        "        writer.writerow(['URL_Google_Lens', 'Marca', 'Nombre_Producto', 'Precio', 'Ofertas'])\n",
        "\n",
        "        for product in clean_products:\n",
        "            parts = product.split(',')\n",
        "            url_google_lens = parts[0].strip()\n",
        "            marca = parts[1].strip() if len(parts) > 1 else ''\n",
        "            nombre_producto = parts[2].strip() if len(parts) > 2 else ''\n",
        "            precio = parts[3].strip() if len(parts) > 3 else ''\n",
        "            ofertas = parts[3].strip() if len(parts) > 4 else ''\n",
        "\n",
        "            writer.writerow([marca, nombre_producto, precio, url_google_lens, ofertas])  # MODIFICADO\n",
        "\n",
        "    print(f\"CSV creado: {filename}\")\n",
        "# Usar la función:\n",
        "export_simple_csv(clean_products)"
      ],
      "metadata": {
        "colab": {
          "base_uri": "https://localhost:8080/"
        },
        "id": "TwUJC8gWcilA",
        "outputId": "505371cc-6cc6-4eb0-a62e-ec13f4252253"
      },
      "execution_count": 26,
      "outputs": [
        {
          "output_type": "stream",
          "name": "stdout",
          "text": [
            "CSV creado: WEBER_20251016.csv\n"
          ]
        }
      ]
    },
    {
      "cell_type": "code",
      "source": [],
      "metadata": {
        "id": "hdcuqk2Si49O"
      },
      "execution_count": null,
      "outputs": []
    }
  ]
}